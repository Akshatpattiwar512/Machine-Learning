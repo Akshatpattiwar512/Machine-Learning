{
  "nbformat": 4,
  "nbformat_minor": 0,
  "metadata": {
    "colab": {
      "name": "Sklearn_diabetes_GradientBoostingRegressor",
      "provenance": [],
      "authorship_tag": "ABX9TyNQXvMjoFLbKugZS7gJbAWV",
      "include_colab_link": true
    },
    "kernelspec": {
      "name": "python3",
      "display_name": "Python 3"
    },
    "language_info": {
      "name": "python"
    }
  },
  "cells": [
    {
      "cell_type": "markdown",
      "metadata": {
        "id": "view-in-github",
        "colab_type": "text"
      },
      "source": [
        "<a href=\"https://colab.research.google.com/github/Akshatpattiwar512/Machine-Learning/blob/main/Sklearn_diabetes_GradientBoostingRegressor.ipynb\" target=\"_parent\"><img src=\"https://colab.research.google.com/assets/colab-badge.svg\" alt=\"Open In Colab\"/></a>"
      ]
    },
    {
      "cell_type": "code",
      "metadata": {
        "colab": {
          "base_uri": "https://localhost:8080/"
        },
        "id": "-XLwbghfbrKp",
        "outputId": "dd17e133-72b0-4048-fe61-84491873f4aa"
      },
      "source": [
        "!pip install scikit_optimize"
      ],
      "execution_count": 4,
      "outputs": [
        {
          "output_type": "stream",
          "text": [
            "Collecting scikit_optimize\n",
            "  Downloading scikit_optimize-0.8.1-py2.py3-none-any.whl (101 kB)\n",
            "\u001b[?25l\r\u001b[K     |███▎                            | 10 kB 20.9 MB/s eta 0:00:01\r\u001b[K     |██████▌                         | 20 kB 9.1 MB/s eta 0:00:01\r\u001b[K     |█████████▊                      | 30 kB 8.0 MB/s eta 0:00:01\r\u001b[K     |█████████████                   | 40 kB 7.4 MB/s eta 0:00:01\r\u001b[K     |████████████████▏               | 51 kB 4.2 MB/s eta 0:00:01\r\u001b[K     |███████████████████▍            | 61 kB 4.4 MB/s eta 0:00:01\r\u001b[K     |██████████████████████▊         | 71 kB 4.4 MB/s eta 0:00:01\r\u001b[K     |██████████████████████████      | 81 kB 5.0 MB/s eta 0:00:01\r\u001b[K     |█████████████████████████████▏  | 92 kB 5.1 MB/s eta 0:00:01\r\u001b[K     |████████████████████████████████| 101 kB 3.8 MB/s \n",
            "\u001b[?25hRequirement already satisfied: scipy>=0.19.1 in /usr/local/lib/python3.7/dist-packages (from scikit_optimize) (1.4.1)\n",
            "Collecting pyaml>=16.9\n",
            "  Downloading pyaml-20.4.0-py2.py3-none-any.whl (17 kB)\n",
            "Requirement already satisfied: scikit-learn>=0.20.0 in /usr/local/lib/python3.7/dist-packages (from scikit_optimize) (0.22.2.post1)\n",
            "Requirement already satisfied: numpy>=1.13.3 in /usr/local/lib/python3.7/dist-packages (from scikit_optimize) (1.19.5)\n",
            "Requirement already satisfied: joblib>=0.11 in /usr/local/lib/python3.7/dist-packages (from scikit_optimize) (1.0.1)\n",
            "Requirement already satisfied: PyYAML in /usr/local/lib/python3.7/dist-packages (from pyaml>=16.9->scikit_optimize) (3.13)\n",
            "Installing collected packages: pyaml, scikit-optimize\n",
            "Successfully installed pyaml-20.4.0 scikit-optimize-0.8.1\n"
          ],
          "name": "stdout"
        }
      ]
    },
    {
      "cell_type": "code",
      "metadata": {
        "id": "3WW0GQX_bLsu"
      },
      "source": [
        "import numpy as np\n",
        "import pandas as pd\n",
        "from sklearn.datasets import load_diabetes\n",
        "from sklearn.ensemble import GradientBoostingRegressor\n",
        "from sklearn.model_selection import cross_val_score\n",
        "import warnings\n",
        "warnings.filterwarnings(\"ignore\")"
      ],
      "execution_count": 24,
      "outputs": []
    },
    {
      "cell_type": "code",
      "metadata": {
        "colab": {
          "base_uri": "https://localhost:8080/"
        },
        "id": "tBD4Dj5nbUg7",
        "outputId": "58c9ea8c-416d-4882-b711-36bcdbc76085"
      },
      "source": [
        "diabetes = load_diabetes()\n",
        "X, y = diabetes.data, diabetes.target\n",
        "print(\"X Dataset : \",X)\n",
        "print(\"------------------------------------------------------------------------------------------\")\n",
        "print(\"y Dataset : \",y)"
      ],
      "execution_count": 22,
      "outputs": [
        {
          "output_type": "stream",
          "text": [
            "X Dataset :  [[ 0.03807591  0.05068012  0.06169621 ... -0.00259226  0.01990842\n",
            "  -0.01764613]\n",
            " [-0.00188202 -0.04464164 -0.05147406 ... -0.03949338 -0.06832974\n",
            "  -0.09220405]\n",
            " [ 0.08529891  0.05068012  0.04445121 ... -0.00259226  0.00286377\n",
            "  -0.02593034]\n",
            " ...\n",
            " [ 0.04170844  0.05068012 -0.01590626 ... -0.01107952 -0.04687948\n",
            "   0.01549073]\n",
            " [-0.04547248 -0.04464164  0.03906215 ...  0.02655962  0.04452837\n",
            "  -0.02593034]\n",
            " [-0.04547248 -0.04464164 -0.0730303  ... -0.03949338 -0.00421986\n",
            "   0.00306441]]\n",
            "------------------------------------------------------------------------------------------\n",
            "y Dataset :  [151.  75. 141. 206. 135.  97. 138.  63. 110. 310. 101.  69. 179. 185.\n",
            " 118. 171. 166. 144.  97. 168.  68.  49.  68. 245. 184. 202. 137.  85.\n",
            " 131. 283. 129.  59. 341.  87.  65. 102. 265. 276. 252.  90. 100.  55.\n",
            "  61.  92. 259.  53. 190. 142.  75. 142. 155. 225.  59. 104. 182. 128.\n",
            "  52.  37. 170. 170.  61. 144.  52. 128.  71. 163. 150.  97. 160. 178.\n",
            "  48. 270. 202. 111.  85.  42. 170. 200. 252. 113. 143.  51.  52. 210.\n",
            "  65. 141.  55. 134.  42. 111.  98. 164.  48.  96.  90. 162. 150. 279.\n",
            "  92.  83. 128. 102. 302. 198.  95.  53. 134. 144. 232.  81. 104.  59.\n",
            " 246. 297. 258. 229. 275. 281. 179. 200. 200. 173. 180.  84. 121. 161.\n",
            "  99. 109. 115. 268. 274. 158. 107.  83. 103. 272.  85. 280. 336. 281.\n",
            " 118. 317. 235.  60. 174. 259. 178. 128.  96. 126. 288.  88. 292.  71.\n",
            " 197. 186.  25.  84.  96. 195.  53. 217. 172. 131. 214.  59.  70. 220.\n",
            " 268. 152.  47.  74. 295. 101. 151. 127. 237. 225.  81. 151. 107.  64.\n",
            " 138. 185. 265. 101. 137. 143. 141.  79. 292. 178.  91. 116.  86. 122.\n",
            "  72. 129. 142.  90. 158.  39. 196. 222. 277.  99. 196. 202. 155.  77.\n",
            " 191.  70.  73.  49.  65. 263. 248. 296. 214. 185.  78.  93. 252. 150.\n",
            "  77. 208.  77. 108. 160.  53. 220. 154. 259.  90. 246. 124.  67.  72.\n",
            " 257. 262. 275. 177.  71.  47. 187. 125.  78.  51. 258. 215. 303. 243.\n",
            "  91. 150. 310. 153. 346.  63.  89.  50.  39. 103. 308. 116. 145.  74.\n",
            "  45. 115. 264.  87. 202. 127. 182. 241.  66.  94. 283.  64. 102. 200.\n",
            " 265.  94. 230. 181. 156. 233.  60. 219.  80.  68. 332. 248.  84. 200.\n",
            "  55.  85.  89.  31. 129.  83. 275.  65. 198. 236. 253. 124.  44. 172.\n",
            " 114. 142. 109. 180. 144. 163. 147.  97. 220. 190. 109. 191. 122. 230.\n",
            " 242. 248. 249. 192. 131. 237.  78. 135. 244. 199. 270. 164.  72.  96.\n",
            " 306.  91. 214.  95. 216. 263. 178. 113. 200. 139. 139.  88. 148.  88.\n",
            " 243.  71.  77. 109. 272.  60.  54. 221.  90. 311. 281. 182. 321.  58.\n",
            " 262. 206. 233. 242. 123. 167.  63. 197.  71. 168. 140. 217. 121. 235.\n",
            " 245.  40.  52. 104. 132.  88.  69. 219.  72. 201. 110.  51. 277.  63.\n",
            " 118.  69. 273. 258.  43. 198. 242. 232. 175.  93. 168. 275. 293. 281.\n",
            "  72. 140. 189. 181. 209. 136. 261. 113. 131. 174. 257.  55.  84.  42.\n",
            " 146. 212. 233.  91. 111. 152. 120.  67. 310.  94. 183.  66. 173.  72.\n",
            "  49.  64.  48. 178. 104. 132. 220.  57.]\n"
          ],
          "name": "stdout"
        }
      ]
    },
    {
      "cell_type": "code",
      "metadata": {
        "colab": {
          "base_uri": "https://localhost:8080/"
        },
        "id": "GY_qlg5_cqaC",
        "outputId": "a0ac0cd2-2207-4566-f6a1-f8ae0d147057"
      },
      "source": [
        "n_features = X.shape[1]\n",
        "n_features"
      ],
      "execution_count": 13,
      "outputs": [
        {
          "output_type": "execute_result",
          "data": {
            "text/plain": [
              "10"
            ]
          },
          "metadata": {
            "tags": []
          },
          "execution_count": 13
        }
      ]
    },
    {
      "cell_type": "code",
      "metadata": {
        "colab": {
          "base_uri": "https://localhost:8080/"
        },
        "id": "LGopGfMjcwb5",
        "outputId": "05dd03f2-877a-456e-de61-c783c4df0556"
      },
      "source": [
        "# gradient boosted trees tend to do well on problems like this\n",
        "reg = GradientBoostingRegressor(n_estimators=50, random_state=0)\n",
        "reg"
      ],
      "execution_count": 15,
      "outputs": [
        {
          "output_type": "execute_result",
          "data": {
            "text/plain": [
              "GradientBoostingRegressor(alpha=0.9, ccp_alpha=0.0, criterion='friedman_mse',\n",
              "                          init=None, learning_rate=0.1, loss='ls', max_depth=3,\n",
              "                          max_features=None, max_leaf_nodes=None,\n",
              "                          min_impurity_decrease=0.0, min_impurity_split=None,\n",
              "                          min_samples_leaf=1, min_samples_split=2,\n",
              "                          min_weight_fraction_leaf=0.0, n_estimators=50,\n",
              "                          n_iter_no_change=None, presort='deprecated',\n",
              "                          random_state=0, subsample=1.0, tol=0.0001,\n",
              "                          validation_fraction=0.1, verbose=0, warm_start=False)"
            ]
          },
          "metadata": {
            "tags": []
          },
          "execution_count": 15
        }
      ]
    },
    {
      "cell_type": "code",
      "metadata": {
        "colab": {
          "base_uri": "https://localhost:8080/"
        },
        "id": "pmGdKF9Uba8m",
        "outputId": "daf5d43f-6084-43f5-f602-6c92c6517b12"
      },
      "source": [
        "from skopt.space import Real, Integer\n",
        "from skopt.utils import use_named_args\n",
        "# The list of hyper-parameters we want to optimize. For each one we define the bounds,\n",
        "# the corresponding scikit-learn parameter name, as well as how to sample values\n",
        "# from that dimension (`'log-uniform'` for the learning rate)\n",
        "space  = [Integer(1, 5, name='max_depth'),\n",
        "          Real(10**-5, 10**0, \"log-uniform\", name='learning_rate'),\n",
        "          Integer(1, n_features, name='max_features'),\n",
        "          Integer(2, 100, name='min_samples_split'),\n",
        "          Integer(1, 100, name='min_samples_leaf')]\n",
        "space\n",
        "# this decorator allows your objective function to receive a the parameters as\n",
        "# keyword arguments. This is particularly convenient when you want to set scikit-learn\n",
        "# estimator parameters\n"
      ],
      "execution_count": 23,
      "outputs": [
        {
          "output_type": "execute_result",
          "data": {
            "text/plain": [
              "[Integer(low=1, high=5, prior='uniform', transform='identity'),\n",
              " Real(low=1e-05, high=1, prior='log-uniform', transform='identity'),\n",
              " Integer(low=1, high=10, prior='uniform', transform='identity'),\n",
              " Integer(low=2, high=100, prior='uniform', transform='identity'),\n",
              " Integer(low=1, high=100, prior='uniform', transform='identity')]"
            ]
          },
          "metadata": {
            "tags": []
          },
          "execution_count": 23
        }
      ]
    },
    {
      "cell_type": "code",
      "metadata": {
        "id": "Hk2amaEdcYSa"
      },
      "source": [
        "@use_named_args(space)\n",
        "def objective(**params):\n",
        "    reg.set_params(**params)\n",
        "    return -np.mean(cross_val_score(reg, X, y, cv=5, n_jobs=-1,\n",
        "                                    scoring=\"neg_mean_absolute_error\"))"
      ],
      "execution_count": 12,
      "outputs": []
    },
    {
      "cell_type": "code",
      "metadata": {
        "colab": {
          "base_uri": "https://localhost:8080/",
          "height": 35
        },
        "id": "m_270IZHbeXz",
        "outputId": "9f5c9f79-2572-4d1c-f841-d8cd51c0344f"
      },
      "source": [
        "from skopt import gp_minimize\n",
        "import numpy as np\n",
        "res_gp = gp_minimize(objective, space, n_calls=50, random_state=0)\n",
        "\n",
        "\"Best score=%.4f\" % res_gp.fun"
      ],
      "execution_count": 25,
      "outputs": [
        {
          "output_type": "execute_result",
          "data": {
            "application/vnd.google.colaboratory.intrinsic+json": {
              "type": "string"
            },
            "text/plain": [
              "'Best score=45.0300'"
            ]
          },
          "metadata": {
            "tags": []
          },
          "execution_count": 25
        }
      ]
    },
    {
      "cell_type": "code",
      "metadata": {
        "colab": {
          "base_uri": "https://localhost:8080/"
        },
        "id": "XUFspHWobz8-",
        "outputId": "d83106f3-7091-4bc5-b1fc-6bc634f4a7c9"
      },
      "source": [
        "print(\"\"\"Best parameters:\n",
        "- max_depth=%d\n",
        "- learning_rate=%.6f\n",
        "- max_features=%d\n",
        "- min_samples_split=%d\n",
        "- min_samples_leaf=%d\"\"\" % (res_gp.x[0], res_gp.x[1], \n",
        "                            res_gp.x[2], res_gp.x[3], \n",
        "                            res_gp.x[4]))"
      ],
      "execution_count": 8,
      "outputs": [
        {
          "output_type": "stream",
          "text": [
            "Best parameters:\n",
            "- max_depth=2\n",
            "- learning_rate=0.598390\n",
            "- max_features=1\n",
            "- min_samples_split=100\n",
            "- min_samples_leaf=100\n"
          ],
          "name": "stdout"
        }
      ]
    },
    {
      "cell_type": "code",
      "metadata": {
        "colab": {
          "base_uri": "https://localhost:8080/",
          "height": 314
        },
        "id": "GuluIO1Yb5Y4",
        "outputId": "e82a9d6f-aef5-4290-e501-ffb06fb0ce14"
      },
      "source": [
        "from skopt.plots import plot_convergence\n",
        "plot_convergence(res_gp)"
      ],
      "execution_count": 9,
      "outputs": [
        {
          "output_type": "execute_result",
          "data": {
            "text/plain": [
              "<matplotlib.axes._subplots.AxesSubplot at 0x7f2020a590d0>"
            ]
          },
          "metadata": {
            "tags": []
          },
          "execution_count": 9
        },
        {
          "output_type": "display_data",
          "data": {
            "image/png": "[encoded data removed]",
            "text/plain": [
              "<Figure size 432x288 with 1 Axes>"
            ]
          },
          "metadata": {
            "tags": [],
            "needs_background": "light"
          }
        }
      ]
    },
    {
      "cell_type": "code",
      "metadata": {
        "id": "cJXPk-SLb78k"
      },
      "source": [
        ""
      ],
      "execution_count": null,
      "outputs": []
    }
  ]
}